{
 "cells": [
  {
   "cell_type": "markdown",
   "id": "a9513bc1",
   "metadata": {},
   "source": [
    "Reading the data and splitting it into train and test, features and labels"
   ]
  },
  {
   "cell_type": "code",
   "execution_count": 1,
   "id": "a8fef00c",
   "metadata": {},
   "outputs": [],
   "source": [
    "import pandas as pd\n",
    "from sklearn.model_selection import train_test_split"
   ]
  },
  {
   "cell_type": "code",
   "execution_count": 2,
   "id": "4028096f",
   "metadata": {},
   "outputs": [],
   "source": [
    "KOI_data = pd.read_csv(\"KOIdata.csv\", skiprows=31)"
   ]
  },
  {
   "cell_type": "code",
   "execution_count": 3,
   "id": "5af7bbe6",
   "metadata": {},
   "outputs": [],
   "source": [
    "variables = ['koi_period', 'koi_time0bk', 'koi_impact', 'koi_duration', \n",
    "             'koi_depth', 'koi_prad', 'koi_teq', 'koi_insol', \n",
    "             'koi_model_snr', 'koi_steff', 'koi_slogg', 'koi_srad', 'koi_kepmag', \n",
    "             'koi_pdisposition']\n",
    "\n",
    "features = ['koi_period', 'koi_time0bk', 'koi_impact', 'koi_duration', \n",
    "             'koi_depth', 'koi_prad', 'koi_teq', 'koi_insol', \n",
    "             'koi_model_snr', 'koi_steff', 'koi_slogg', 'koi_srad', 'koi_kepmag']"
   ]
  },
  {
   "cell_type": "code",
   "execution_count": 4,
   "id": "b769c6a2",
   "metadata": {},
   "outputs": [],
   "source": [
    "KOI_data = KOI_data[variables]\n",
    "KOI_data = KOI_data.dropna()\n",
    "X = KOI_data[features]\n",
    "y = KOI_data['koi_pdisposition']"
   ]
  },
  {
   "cell_type": "code",
   "execution_count": 5,
   "id": "dbe4cd9c",
   "metadata": {},
   "outputs": [],
   "source": [
    "X_train, X_test, y_train, y_test = train_test_split(X, y, test_size=0.2, \n",
    "                                                    random_state=124, shuffle=True)"
   ]
  }
 ],
 "metadata": {
  "kernelspec": {
   "display_name": "Python 3",
   "language": "python",
   "name": "python3"
  },
  "language_info": {
   "codemirror_mode": {
    "name": "ipython",
    "version": 3
   },
   "file_extension": ".py",
   "mimetype": "text/x-python",
   "name": "python",
   "nbconvert_exporter": "python",
   "pygments_lexer": "ipython3",
   "version": "3.8.3"
  }
 },
 "nbformat": 4,
 "nbformat_minor": 5
}
